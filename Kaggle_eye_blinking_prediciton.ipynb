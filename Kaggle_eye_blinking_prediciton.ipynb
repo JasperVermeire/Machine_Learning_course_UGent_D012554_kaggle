{
  "nbformat": 4,
  "nbformat_minor": 0,
  "metadata": {
    "kernelspec": {
      "display_name": "Python 3",
      "language": "python",
      "name": "python3"
    },
    "language_info": {
      "codemirror_mode": {
        "name": "ipython",
        "version": 3
      },
      "file_extension": ".py",
      "mimetype": "text/x-python",
      "name": "python",
      "nbconvert_exporter": "python",
      "pygments_lexer": "ipython3",
      "version": "3.7.3"
    },
    "colab": {
      "name": "Eye blinking prediction.ipynb",
      "provenance": []
    }
  },
  "cells": [
    {
      "cell_type": "markdown",
      "metadata": {
        "id": "goRLnuyRXxaw",
        "colab_type": "text"
      },
      "source": [
        "\n",
        "<img src=\"https://raw.githubusercontent.com/sdgroeve/Machine_Learning_course_UGent_D012554_kaggle/master/header.png\" alt=\"drawing\"/>\n"
      ]
    },
    {
      "cell_type": "markdown",
      "metadata": {
        "id": "tsJ4TbSlXxax",
        "colab_type": "text"
      },
      "source": [
        "A multi-channel electroencephalography (EEG) system enables a broad range of applications including neurotherapy, biofeedback, and brain computer interfacing. The dataset you will analyse is created with the [Emotiv EPOC+](https://www.emotiv.com/product/emotiv-epoc-14-channel-mobile-eeg).  \n",
        "\n",
        "It has 14 EEG channels with names based on the International 10-20 locations: AF3, F7, F3, FC5, T7, P7, O1, O2, P8, T8, FC6, F4, F8, AF4:\n",
        "\n",
        "<br/>\n",
        "<br/>\n",
        "<center>\n",
        "<img src=\"https://raw.githubusercontent.com/sdgroeve/Machine_Learning_course_UGent_D012554_kaggle/master/EEG.png\" alt=\"drawing\" width=\"200\"/>\n",
        "<center/>\n",
        "<br/>\n",
        "<br/>\n"
      ]
    },
    {
      "cell_type": "markdown",
      "metadata": {
        "id": "HzXBqhLUfxyh",
        "colab_type": "text"
      },
      "source": [
        "All data is from one continuous EEG measurement with the Emotiv EEG Neuroheadset. \n",
        "\n",
        "The experiment was conducted on one person only. The duration of the measurement was around 117 seconds.\n",
        "\n",
        "From the paper:\n",
        "\n",
        "> *The experiment was carried out in a quiet room. During\n",
        "the experiment, the proband was being videotaped. To prevent\n",
        "artifacts, the proband was not aware of the exact start time\n",
        "of the measurement. Instead, he was told to sit relaxed, look\n",
        "straight to the camera, and change the eye state at free will.\n",
        "Only additional constraint was that, accumulated over the\n",
        "entire session, the duration of both eye states should be about\n",
        "the same and that the individual intervals should vary greatly\n",
        "in length (from eye blinking to longer stretches)...*\n",
        "\n",
        "The eye state was detected via a camera during the EEG measurement and later added manually to the file after analyzing the video frames. \n",
        "\n",
        "A label '1' indicates the eye-closed and '0' the eye-open state.\n",
        "\n",
        "(*Source: Oliver Roesler, Stuttgart, Germany*)"
      ]
    },
    {
      "cell_type": "markdown",
      "metadata": {
        "id": "1rHopvjFXxay",
        "colab_type": "text"
      },
      "source": [
        "First I will load the train and test set as well as modules I will be using to visualize the data. "
      ]
    },
    {
      "cell_type": "code",
      "metadata": {
        "id": "aw7NaXHYXxaz",
        "colab_type": "code",
        "outputId": "c8367b2a-cb96-44a2-d11f-56944a36d299",
        "colab": {
          "base_uri": "https://localhost:8080/",
          "height": 51
        }
      },
      "source": [
        "%matplotlib inline\n",
        "import pandas as pd\n",
        "import matplotlib.pyplot as plt\n",
        "import seaborn as sns\n",
        "\n",
        "\n",
        "trainset = pd.read_csv(\"https://raw.githubusercontent.com/sdgroeve/Machine_Learning_course_UGent_D012554_kaggle/master/eeg_train.csv\")\n",
        "\n",
        "testset = pd.read_csv(\"https://raw.githubusercontent.com/sdgroeve/Machine_Learning_course_UGent_D012554_kaggle/master/eeg_test.csv\")\n",
        "\n"
      ],
      "execution_count": 0,
      "outputs": [
        {
          "output_type": "stream",
          "text": [
            "/usr/local/lib/python3.6/dist-packages/statsmodels/tools/_testing.py:19: FutureWarning: pandas.util.testing is deprecated. Use the functions in the public API at pandas.testing instead.\n",
            "  import pandas.util.testing as tm\n"
          ],
          "name": "stderr"
        }
      ]
    },
    {
      "cell_type": "markdown",
      "metadata": {
        "id": "HKeS_E8W9aqK",
        "colab_type": "text"
      },
      "source": [
        "First, the data set is printed to look at the different features present in the datasets"
      ]
    },
    {
      "cell_type": "code",
      "metadata": {
        "id": "G2Xcd8tvkEqA",
        "colab_type": "code",
        "outputId": "90e859e7-c29b-42a7-a9e1-ca275b02a55a",
        "colab": {
          "base_uri": "https://localhost:8080/",
          "height": 289
        }
      },
      "source": [
        "print(trainset.head())\n",
        "print(testset.head())"
      ],
      "execution_count": 0,
      "outputs": [
        {
          "output_type": "stream",
          "text": [
            "       AF3       F7       F3      FC5  ...       F4       F8      AF4  label\n",
            "0  4299.49  3997.44  4277.95  4116.92  ...  4278.97  4600.00  4369.23      1\n",
            "1  4302.05  3985.64  4261.03  4129.74  ...  4283.08  4607.18  4358.46      0\n",
            "2  4321.03  4015.90  4265.13  4122.56  ...  4286.15  4608.21  4371.79      0\n",
            "3  4408.21  4104.10  4380.00  4232.31  ...  4388.21  4715.90  4464.10      0\n",
            "4  4347.18  3975.38  4266.67  4102.56  ...  4313.33  4664.10  4411.79      1\n",
            "\n",
            "[5 rows x 15 columns]\n",
            "       AF3       F7       F3      FC5  ...       F4       F8      AF4  index\n",
            "0  4296.41  4040.51  4253.33  4124.10  ...  4268.72  4598.46  4342.56      0\n",
            "1  4291.28  3994.36  4247.18  4102.56  ...  4260.51  4593.33  4337.95      1\n",
            "2  4299.49  4019.49  4269.74  4116.41  ...  4280.51  4596.92  4350.26      2\n",
            "3  4280.00  4004.62  4263.59  4120.51  ...  4271.79  4608.72  4344.10      3\n",
            "4  4317.44  3968.72  4260.51  4101.54  ...  4282.05  4592.31  4372.82      4\n",
            "\n",
            "[5 rows x 15 columns]\n"
          ],
          "name": "stdout"
        }
      ]
    },
    {
      "cell_type": "code",
      "metadata": {
        "id": "OhWUb4SQc2R_",
        "colab_type": "code",
        "outputId": "d7e2a644-ba05-4cf5-bb90-a0122efd352e",
        "colab": {
          "base_uri": "https://localhost:8080/",
          "height": 51
        }
      },
      "source": [
        "print(trainset[trainset.label == 1].label.count())\n",
        "print(trainset[trainset.label == 0].label.count())"
      ],
      "execution_count": 0,
      "outputs": [
        {
          "output_type": "stream",
          "text": [
            "901\n",
            "1099\n"
          ],
          "name": "stdout"
        }
      ]
    },
    {
      "cell_type": "markdown",
      "metadata": {
        "id": "Px4HiXaq-PDz",
        "colab_type": "text"
      },
      "source": [
        "There are 901 timepoints captured where the subjects eyes were closes (label 1) and 1099 timepoints where the subjects eyes were open (label2)\n",
        "\n",
        "The label column from the trainset and the index column from the testset should be removed. The Label column of the training set should be saved in a variable \n"
      ]
    },
    {
      "cell_type": "code",
      "metadata": {
        "id": "aG_Sl4Dw-OXC",
        "colab_type": "code",
        "outputId": "5996e0ad-2833-4298-d787-692cf23e8409",
        "colab": {
          "base_uri": "https://localhost:8080/",
          "height": 289
        }
      },
      "source": [
        "train_label = trainset.pop('label')\n",
        "testset.pop('index')\n",
        "print(trainset.head())\n",
        "print(testset.head())"
      ],
      "execution_count": 0,
      "outputs": [
        {
          "output_type": "stream",
          "text": [
            "       AF3       F7       F3      FC5  ...      FC6       F4       F8      AF4\n",
            "0  4299.49  3997.44  4277.95  4116.92  ...  4211.79  4278.97  4600.00  4369.23\n",
            "1  4302.05  3985.64  4261.03  4129.74  ...  4195.90  4283.08  4607.18  4358.46\n",
            "2  4321.03  4015.90  4265.13  4122.56  ...  4155.38  4286.15  4608.21  4371.79\n",
            "3  4408.21  4104.10  4380.00  4232.31  ...  4319.49  4388.21  4715.90  4464.10\n",
            "4  4347.18  3975.38  4266.67  4102.56  ...  4248.21  4313.33  4664.10  4411.79\n",
            "\n",
            "[5 rows x 14 columns]\n",
            "       AF3       F7       F3      FC5  ...      FC6       F4       F8      AF4\n",
            "0  4296.41  4040.51  4253.33  4124.10  ...  4197.44  4268.72  4598.46  4342.56\n",
            "1  4291.28  3994.36  4247.18  4102.56  ...  4190.77  4260.51  4593.33  4337.95\n",
            "2  4299.49  4019.49  4269.74  4116.41  ...  4202.56  4280.51  4596.92  4350.26\n",
            "3  4280.00  4004.62  4263.59  4120.51  ...  4192.82  4271.79  4608.72  4344.10\n",
            "4  4317.44  3968.72  4260.51  4101.54  ...  4199.49  4282.05  4592.31  4372.82\n",
            "\n",
            "[5 rows x 14 columns]\n"
          ],
          "name": "stdout"
        }
      ]
    },
    {
      "cell_type": "markdown",
      "metadata": {
        "id": "ReNhw8m9_cLm",
        "colab_type": "text"
      },
      "source": [
        "Now in both the train and testset the only columns that are present are features. \n",
        "\n"
      ]
    },
    {
      "cell_type": "code",
      "metadata": {
        "id": "_cwB_3CPA-kU",
        "colab_type": "code",
        "outputId": "f7946ddc-e434-401c-9063-08aed6fd2de9",
        "colab": {
          "base_uri": "https://localhost:8080/",
          "height": 609
        }
      },
      "source": [
        "\n",
        "plt.figure(figsize = (15,10))\n",
        "trainset.boxplot(vert = False, grid = False , )"
      ],
      "execution_count": 0,
      "outputs": [
        {
          "output_type": "execute_result",
          "data": {
            "text/plain": [
              "<matplotlib.axes._subplots.AxesSubplot at 0x7fcd1bd47ba8>"
            ]
          },
          "metadata": {
            "tags": []
          },
          "execution_count": 5
        },
        {
          "output_type": "display_data",
          "data": {
            "image/png": "[encoded data removed]",
            "text/plain": [
              "<Figure size 1080x720 with 1 Axes>"
            ]
          },
          "metadata": {
            "tags": [],
            "needs_background": "light"
          }
        }
      ]
    },
    {
      "cell_type": "markdown",
      "metadata": {
        "id": "p7pU9iVDA8ba",
        "colab_type": "text"
      },
      "source": [
        "The data is not centered around 0 , the next step is to center the data around 0.\n",
        "all features need to have the same scale"
      ]
    },
    {
      "cell_type": "markdown",
      "metadata": {
        "id": "aIoa5N2OZrQk",
        "colab_type": "text"
      },
      "source": [
        "Standardization (or **Z-score normalization**) scales the features such that they'll have the properties of a standard normal distribution ($\\mu = 0$ and $\\sigma = 1$):\n",
        "\n",
        "\\begin{equation} x_{norm} = \\frac{x - \\mu}{\\sigma}.\\end{equation} \n",
        "\n",
        "Standardizing the features is not only important if we are comparing measurements that have different units, but it is also a general requirement for many machine learning algorithms."
      ]
    },
    {
      "cell_type": "code",
      "metadata": {
        "id": "XKQkzpgGS9UY",
        "colab_type": "code",
        "colab": {}
      },
      "source": [
        "from sklearn.preprocessing import StandardScaler\n",
        "\n",
        "scaler = StandardScaler()\n",
        "\n",
        "scaler.fit(trainset)\n",
        "\n",
        "trainset_scaled = scaler.transform(trainset)\n",
        "\n",
        "testset_scaled = scaler.transform(testset)\n",
        "\n",
        "\n",
        "trainset_scaled = pd.DataFrame(trainset_scaled ,columns= trainset.columns )\n",
        "testset_scaled = pd.DataFrame(testset_scaled ,columns= testset.columns )\n",
        "\n",
        "\n"
      ],
      "execution_count": 0,
      "outputs": []
    },
    {
      "cell_type": "code",
      "metadata": {
        "id": "SH_vozx0dhy2",
        "colab_type": "code",
        "outputId": "c976e473-14f7-4015-b538-21e88daa46d7",
        "colab": {
          "base_uri": "https://localhost:8080/",
          "height": 289
        }
      },
      "source": [
        "print(trainset_scaled.head())\n",
        "print(testset_scaled.head())"
      ],
      "execution_count": 0,
      "outputs": [
        {
          "output_type": "stream",
          "text": [
            "        AF3        F7        F3  ...        F4        F8       AF4\n",
            "0 -0.018351 -0.396476  0.677912  ...  0.026714 -0.156365  0.252992\n",
            "1  0.052070 -0.791842 -0.136210  ...  0.235973  0.060820 -0.037576\n",
            "2  0.574178  0.222036  0.061066  ...  0.392280  0.091976  0.322059\n",
            "3  2.972354  3.177226  5.588146  ...  5.588622  3.349453  2.812530\n",
            "4  1.293521 -1.135609  0.135164  ...  1.776139  1.782573  1.401236\n",
            "\n",
            "[5 rows x 14 columns]\n",
            "        AF3        F7        F3  ...        F4        F8       AF4\n",
            "0 -0.103077  1.046608 -0.506702  ... -0.495161 -0.202948 -0.466549\n",
            "1 -0.244195 -0.499673 -0.802616  ... -0.913170 -0.358124 -0.590924\n",
            "2 -0.018351  0.342321  0.282880  ...  0.105122 -0.249531 -0.258808\n",
            "3 -0.554489 -0.155906 -0.013033  ... -0.338853  0.107403 -0.425001\n",
            "4  0.475423 -1.358756 -0.161230  ...  0.183531 -0.388978  0.349848\n",
            "\n",
            "[5 rows x 14 columns]\n"
          ],
          "name": "stdout"
        }
      ]
    },
    {
      "cell_type": "code",
      "metadata": {
        "id": "jIWlSBszeGXg",
        "colab_type": "code",
        "outputId": "59540d38-02bb-44fb-f8e5-9831e62f2e7e",
        "colab": {
          "base_uri": "https://localhost:8080/",
          "height": 609
        }
      },
      "source": [
        "plt.figure(figsize = (15,10))\n",
        "trainset_scaled.boxplot(vert = False, grid = False )"
      ],
      "execution_count": 0,
      "outputs": [
        {
          "output_type": "execute_result",
          "data": {
            "text/plain": [
              "<matplotlib.axes._subplots.AxesSubplot at 0x7fcd1bd47a90>"
            ]
          },
          "metadata": {
            "tags": []
          },
          "execution_count": 8
        },
        {
          "output_type": "display_data",
          "data": {
            "image/png": "[encoded data removed]",
            "text/plain": [
              "<Figure size 1080x720 with 1 Axes>"
            ]
          },
          "metadata": {
            "tags": [],
            "needs_background": "light"
          }
        }
      ]
    },
    {
      "cell_type": "markdown",
      "metadata": {
        "id": "sg-4tS9CZ0Pv",
        "colab_type": "text"
      },
      "source": [
        "this data set requires a classification model since it is a classification task. \n",
        "\n",
        "The first model that is used is a support vector machine"
      ]
    },
    {
      "cell_type": "markdown",
      "metadata": {
        "id": "1D4tU2Mt7ApH",
        "colab_type": "text"
      },
      "source": [
        "Here the SVM model is tested on the training data. Cross validation is used to split the data in parts, in this case cv is set to 10 which means the data gets split in 10 equal parts. One of these parts is used as test set and the others as training sets, afterwards the AUC score is calculated. This is repeated until every parts has been the test set, at this point the mean of all the auc scores is printed."
      ]
    },
    {
      "cell_type": "code",
      "metadata": {
        "id": "-RIkIqxtfkm5",
        "colab_type": "code",
        "outputId": "3f33ec2a-0fde-48ef-8807-7d3836027821",
        "colab": {
          "base_uri": "https://localhost:8080/",
          "height": 34
        }
      },
      "source": [
        "from sklearn.svm import SVC\n",
        "from sklearn.model_selection import cross_val_score\n",
        "\n",
        "x = trainset_scaled.copy()\n",
        "\n",
        "model = SVC()\n",
        "\n",
        "scores = cross_val_score(model , x , train_label , cv = 10 , scoring= 'roc_auc').mean()\n",
        "\n",
        "print(scores)"
      ],
      "execution_count": 0,
      "outputs": [
        {
          "output_type": "stream",
          "text": [
            "0.8942757252940738\n"
          ],
          "name": "stdout"
        }
      ]
    },
    {
      "cell_type": "markdown",
      "metadata": {
        "id": "adP1GPZP9Ozb",
        "colab_type": "text"
      },
      "source": [
        "0.89 is not a bad result but this could be improved by tuning some parameters."
      ]
    },
    {
      "cell_type": "markdown",
      "metadata": {
        "id": "0IuVaNB6_nf7",
        "colab_type": "text"
      },
      "source": [
        "This is done through the GridSearch module, all the values for the parameters in 'search_space' are tested with through cross validation. Gridsearch finds the combination of values for these parameters thats results in the best score.\n",
        "In the code below C = 100 and kernel = 'rbf' is the best combination."
      ]
    },
    {
      "cell_type": "code",
      "metadata": {
        "id": "9ny3rYGokLiV",
        "colab_type": "code",
        "outputId": "e979dad3-7e83-4ad6-8243-63f65984248d",
        "colab": {
          "base_uri": "https://localhost:8080/",
          "height": 85
        }
      },
      "source": [
        "from sklearn.model_selection import GridSearchCV\n",
        "\n",
        "search_space = {'C':[0.001,0.01,0.1,1,10,100] , 'kernel':['linear','poly','rbf','sigmoid']}\n",
        "\n",
        "model = SVC() \n",
        "\n",
        "grid_search = GridSearchCV(model, param_grid = search_space)\n",
        "\n",
        "grid_search.fit(trainset, train_label)\n",
        "\n",
        "print(grid_search.best_estimator_)"
      ],
      "execution_count": 0,
      "outputs": [
        {
          "output_type": "stream",
          "text": [
            "SVC(C=100, break_ties=False, cache_size=200, class_weight=None, coef0=0.0,\n",
            "    decision_function_shape='ovr', degree=3, gamma='scale', kernel='rbf',\n",
            "    max_iter=-1, probability=False, random_state=None, shrinking=True,\n",
            "    tol=0.001, verbose=False)\n"
          ],
          "name": "stdout"
        }
      ]
    },
    {
      "cell_type": "markdown",
      "metadata": {
        "id": "0XsF6OJECAKR",
        "colab_type": "text"
      },
      "source": [
        "When the AUC score is calculated again through cross validation with these optimal parameters, a much better result of 0.96 is obtained"
      ]
    },
    {
      "cell_type": "code",
      "metadata": {
        "id": "MeEPhIsIAuK2",
        "colab_type": "code",
        "outputId": "66aa4abd-faa7-4fa2-c5b4-efacb8dbc99a",
        "colab": {
          "base_uri": "https://localhost:8080/",
          "height": 34
        }
      },
      "source": [
        "x = trainset_scaled.copy()\n",
        "\n",
        "model = SVC(C = 100 , kernel= 'rbf')\n",
        "\n",
        "scores = cross_val_score(model , x , train_label , cv = 10 , scoring= 'roc_auc').mean()\n",
        "\n",
        "print(scores)"
      ],
      "execution_count": 0,
      "outputs": [
        {
          "output_type": "stream",
          "text": [
            "0.9605496725496728\n"
          ],
          "name": "stdout"
        }
      ]
    },
    {
      "cell_type": "markdown",
      "metadata": {
        "id": "kTgjxSK7C5zZ",
        "colab_type": "text"
      },
      "source": [
        "Now predictions about the testset can be made with this SVM model."
      ]
    },
    {
      "cell_type": "markdown",
      "metadata": {
        "id": "B04Hf7v9Djzu",
        "colab_type": "text"
      },
      "source": [
        "probability has to be set to true inother to use the predict_proba function.\n",
        "First, the model is fitted to the training set using the training label. next, Predictions are made for the testset. "
      ]
    },
    {
      "cell_type": "code",
      "metadata": {
        "id": "2rE4PHJSDQEe",
        "colab_type": "code",
        "outputId": "85b49d2b-de00-4ba1-c201-fbf5c8db221a",
        "colab": {
          "base_uri": "https://localhost:8080/",
          "height": 136
        }
      },
      "source": [
        "model = SVC(kernel = 'rbf', C = 100, probability= True)\n",
        "\n",
        "model.fit(trainset_scaled,train_label)\n",
        "\n",
        "predictions = model.predict_proba(testset_scaled)\n",
        "\n",
        "predictions"
      ],
      "execution_count": 0,
      "outputs": [
        {
          "output_type": "execute_result",
          "data": {
            "text/plain": [
              "array([[9.99988612e-01, 1.13879371e-05],\n",
              "       [2.50309975e-01, 7.49690025e-01],\n",
              "       [9.94195761e-01, 5.80423876e-03],\n",
              "       ...,\n",
              "       [5.93262536e-03, 9.94067375e-01],\n",
              "       [3.05217961e-01, 6.94782039e-01],\n",
              "       [9.64990082e-01, 3.50099177e-02]])"
            ]
          },
          "metadata": {
            "tags": []
          },
          "execution_count": 52
        }
      ]
    },
    {
      "cell_type": "markdown",
      "metadata": {
        "id": "Wfzq1cx9EyOd",
        "colab_type": "text"
      },
      "source": [
        "Now the predictions are added to a new dataframe.\n",
        "Note that only the second column of the predictions are added to this dataframe."
      ]
    },
    {
      "cell_type": "code",
      "metadata": {
        "id": "6vrQUNsyEtGy",
        "colab_type": "code",
        "outputId": "87f933f8-4345-4eac-cdc2-8f73d146c525",
        "colab": {
          "base_uri": "https://localhost:8080/",
          "height": 419
        }
      },
      "source": [
        "my_prediction_results = pd.DataFrame({'index': testset.index , 'label': predictions[:,1]})\n",
        "my_prediction_results"
      ],
      "execution_count": 0,
      "outputs": [
        {
          "output_type": "execute_result",
          "data": {
            "text/html": [
              "<div>\n",
              "<style scoped>\n",
              "    .dataframe tbody tr th:only-of-type {\n",
              "        vertical-align: middle;\n",
              "    }\n",
              "\n",
              "    .dataframe tbody tr th {\n",
              "        vertical-align: top;\n",
              "    }\n",
              "\n",
              "    .dataframe thead th {\n",
              "        text-align: right;\n",
              "    }\n",
              "</style>\n",
              "<table border=\"1\" class=\"dataframe\">\n",
              "  <thead>\n",
              "    <tr style=\"text-align: right;\">\n",
              "      <th></th>\n",
              "      <th>index</th>\n",
              "      <th>label</th>\n",
              "    </tr>\n",
              "  </thead>\n",
              "  <tbody>\n",
              "    <tr>\n",
              "      <th>0</th>\n",
              "      <td>0</td>\n",
              "      <td>0.000011</td>\n",
              "    </tr>\n",
              "    <tr>\n",
              "      <th>1</th>\n",
              "      <td>1</td>\n",
              "      <td>0.749690</td>\n",
              "    </tr>\n",
              "    <tr>\n",
              "      <th>2</th>\n",
              "      <td>2</td>\n",
              "      <td>0.005804</td>\n",
              "    </tr>\n",
              "    <tr>\n",
              "      <th>3</th>\n",
              "      <td>3</td>\n",
              "      <td>0.999985</td>\n",
              "    </tr>\n",
              "    <tr>\n",
              "      <th>4</th>\n",
              "      <td>4</td>\n",
              "      <td>1.000000</td>\n",
              "    </tr>\n",
              "    <tr>\n",
              "      <th>...</th>\n",
              "      <td>...</td>\n",
              "      <td>...</td>\n",
              "    </tr>\n",
              "    <tr>\n",
              "      <th>12887</th>\n",
              "      <td>12887</td>\n",
              "      <td>0.094296</td>\n",
              "    </tr>\n",
              "    <tr>\n",
              "      <th>12888</th>\n",
              "      <td>12888</td>\n",
              "      <td>0.999988</td>\n",
              "    </tr>\n",
              "    <tr>\n",
              "      <th>12889</th>\n",
              "      <td>12889</td>\n",
              "      <td>0.994067</td>\n",
              "    </tr>\n",
              "    <tr>\n",
              "      <th>12890</th>\n",
              "      <td>12890</td>\n",
              "      <td>0.694782</td>\n",
              "    </tr>\n",
              "    <tr>\n",
              "      <th>12891</th>\n",
              "      <td>12891</td>\n",
              "      <td>0.035010</td>\n",
              "    </tr>\n",
              "  </tbody>\n",
              "</table>\n",
              "<p>12892 rows × 2 columns</p>\n",
              "</div>"
            ],
            "text/plain": [
              "       index     label\n",
              "0          0  0.000011\n",
              "1          1  0.749690\n",
              "2          2  0.005804\n",
              "3          3  0.999985\n",
              "4          4  1.000000\n",
              "...      ...       ...\n",
              "12887  12887  0.094296\n",
              "12888  12888  0.999988\n",
              "12889  12889  0.994067\n",
              "12890  12890  0.694782\n",
              "12891  12891  0.035010\n",
              "\n",
              "[12892 rows x 2 columns]"
            ]
          },
          "metadata": {
            "tags": []
          },
          "execution_count": 53
        }
      ]
    },
    {
      "cell_type": "markdown",
      "metadata": {
        "id": "HxWQkqqTFUp8",
        "colab_type": "text"
      },
      "source": [
        "Finally, the predictions dataframe is saved to a CSV file, which can now be submitted to the competition."
      ]
    },
    {
      "cell_type": "code",
      "metadata": {
        "id": "7vGVgNa5FSqu",
        "colab_type": "code",
        "colab": {}
      },
      "source": [
        "filename = \"my_prediction_results.csv\"\n",
        "\n",
        "my_prediction_results.to_csv(filename , index= False)"
      ],
      "execution_count": 0,
      "outputs": []
    },
    {
      "cell_type": "markdown",
      "metadata": {
        "id": "n9soYDiMFskF",
        "colab_type": "text"
      },
      "source": [
        "These predictions resulted in a score of 0.96237 in the competition."
      ]
    },
    {
      "cell_type": "markdown",
      "metadata": {
        "id": "NqYCLBQhH4x9",
        "colab_type": "text"
      },
      "source": [
        "The second model that is used is a randomforest."
      ]
    },
    {
      "cell_type": "code",
      "metadata": {
        "id": "FnSIR8aOOWfZ",
        "colab_type": "code",
        "outputId": "e66e8ed1-664b-439e-d4a2-86b6d2821291",
        "colab": {
          "base_uri": "https://localhost:8080/",
          "height": 34
        }
      },
      "source": [
        "from sklearn.ensemble import RandomForestClassifier\n",
        "\n",
        "x = trainset_scaled.copy()\n",
        "\n",
        "model = RandomForestClassifier()\n",
        "\n",
        "scores = cross_val_score(model , x , train_label , cv = 10 , scoring= 'roc_auc').mean()\n",
        "\n",
        "print(scores)"
      ],
      "execution_count": 0,
      "outputs": [
        {
          "output_type": "stream",
          "text": [
            "0.9258658996457161\n"
          ],
          "name": "stdout"
        }
      ]
    },
    {
      "cell_type": "markdown",
      "metadata": {
        "id": "p6TMGtIfOj7W",
        "colab_type": "text"
      },
      "source": [
        "Just like with the SVM model parameters will be optimized for this model using the GridSearch module.\n"
      ]
    },
    {
      "cell_type": "code",
      "metadata": {
        "id": "7FuDxHYOOfb2",
        "colab_type": "code",
        "outputId": "6f98b599-57fc-4c45-d762-5b2a12a962c2",
        "colab": {
          "base_uri": "https://localhost:8080/",
          "height": 153
        }
      },
      "source": [
        "x = trainset_scaled.copy()\n",
        "\n",
        "search_space = {'max_depth':[1,3,5,10,15,20,30,50], 'n_estimators':[10,20,50,100,200]}\n",
        "\n",
        "model = RandomForestClassifier()\n",
        "\n",
        "grid_search = GridSearchCV(model, param_grid=search_space)\n",
        "\n",
        "grid_search.fit(x,train_label)\n",
        "\n",
        "print(grid_search.best_estimator_)"
      ],
      "execution_count": 0,
      "outputs": [
        {
          "output_type": "stream",
          "text": [
            "RandomForestClassifier(bootstrap=True, ccp_alpha=0.0, class_weight=None,\n",
            "                       criterion='gini', max_depth=50, max_features='auto',\n",
            "                       max_leaf_nodes=None, max_samples=None,\n",
            "                       min_impurity_decrease=0.0, min_impurity_split=None,\n",
            "                       min_samples_leaf=1, min_samples_split=2,\n",
            "                       min_weight_fraction_leaf=0.0, n_estimators=200,\n",
            "                       n_jobs=None, oob_score=False, random_state=None,\n",
            "                       verbose=0, warm_start=False)\n"
          ],
          "name": "stdout"
        }
      ]
    },
    {
      "cell_type": "markdown",
      "metadata": {
        "id": "hR4_dLNhQQND",
        "colab_type": "text"
      },
      "source": [
        "This optimization did not result in an increase of the AUC score "
      ]
    },
    {
      "cell_type": "code",
      "metadata": {
        "id": "Yj8o9mpkPjRI",
        "colab_type": "code",
        "outputId": "ec8d15a2-fbe4-4c60-d302-b96b4f640eb5",
        "colab": {
          "base_uri": "https://localhost:8080/",
          "height": 34
        }
      },
      "source": [
        "x = trainset_scaled.copy()\n",
        "\n",
        "model = RandomForestClassifier(n_estimators=200 , max_depth= 15,)\n",
        "\n",
        "scores = cross_val_score(model , x , train_label , cv = 10 , scoring= 'roc_auc').mean()\n",
        "\n",
        "print(scores)"
      ],
      "execution_count": 0,
      "outputs": [
        {
          "output_type": "stream",
          "text": [
            "0.9262604968935244\n"
          ],
          "name": "stdout"
        }
      ]
    },
    {
      "cell_type": "markdown",
      "metadata": {
        "id": "a6xn-X06Qjka",
        "colab_type": "text"
      },
      "source": [
        "Now predictions will be made for the test set with this model."
      ]
    },
    {
      "cell_type": "code",
      "metadata": {
        "id": "TDJVWpGtQi42",
        "colab_type": "code",
        "outputId": "defebb1f-9625-43f9-fa2a-09121aa72d62",
        "colab": {
          "base_uri": "https://localhost:8080/",
          "height": 136
        }
      },
      "source": [
        "model = RandomForestClassifier(n_estimators=200 , max_depth= 15,)\n",
        "\n",
        "model.fit(trainset_scaled,train_label)\n",
        "\n",
        "predictions = model.predict_proba(testset_scaled)\n",
        "\n",
        "predictions"
      ],
      "execution_count": 0,
      "outputs": [
        {
          "output_type": "execute_result",
          "data": {
            "text/plain": [
              "array([[0.90101401, 0.09898599],\n",
              "       [0.69303529, 0.30696471],\n",
              "       [0.87248196, 0.12751804],\n",
              "       ...,\n",
              "       [0.11029437, 0.88970563],\n",
              "       [0.21358077, 0.78641923],\n",
              "       [0.7861879 , 0.2138121 ]])"
            ]
          },
          "metadata": {
            "tags": []
          },
          "execution_count": 54
        }
      ]
    },
    {
      "cell_type": "markdown",
      "metadata": {
        "id": "xxyfW-a0Qzh8",
        "colab_type": "text"
      },
      "source": [
        "The predictions are added into a new dataframe."
      ]
    },
    {
      "cell_type": "code",
      "metadata": {
        "id": "spm5RtpcQxIb",
        "colab_type": "code",
        "outputId": "a8b284bf-055e-496c-e018-c6936b567acf",
        "colab": {
          "base_uri": "https://localhost:8080/",
          "height": 419
        }
      },
      "source": [
        "my_prediction_results2 = pd.DataFrame({'index': testset.index , 'label': predictions[:,1]})\n",
        "my_prediction_results2"
      ],
      "execution_count": 0,
      "outputs": [
        {
          "output_type": "execute_result",
          "data": {
            "text/html": [
              "<div>\n",
              "<style scoped>\n",
              "    .dataframe tbody tr th:only-of-type {\n",
              "        vertical-align: middle;\n",
              "    }\n",
              "\n",
              "    .dataframe tbody tr th {\n",
              "        vertical-align: top;\n",
              "    }\n",
              "\n",
              "    .dataframe thead th {\n",
              "        text-align: right;\n",
              "    }\n",
              "</style>\n",
              "<table border=\"1\" class=\"dataframe\">\n",
              "  <thead>\n",
              "    <tr style=\"text-align: right;\">\n",
              "      <th></th>\n",
              "      <th>index</th>\n",
              "      <th>label</th>\n",
              "    </tr>\n",
              "  </thead>\n",
              "  <tbody>\n",
              "    <tr>\n",
              "      <th>0</th>\n",
              "      <td>0</td>\n",
              "      <td>0.098986</td>\n",
              "    </tr>\n",
              "    <tr>\n",
              "      <th>1</th>\n",
              "      <td>1</td>\n",
              "      <td>0.306965</td>\n",
              "    </tr>\n",
              "    <tr>\n",
              "      <th>2</th>\n",
              "      <td>2</td>\n",
              "      <td>0.127518</td>\n",
              "    </tr>\n",
              "    <tr>\n",
              "      <th>3</th>\n",
              "      <td>3</td>\n",
              "      <td>0.928079</td>\n",
              "    </tr>\n",
              "    <tr>\n",
              "      <th>4</th>\n",
              "      <td>4</td>\n",
              "      <td>0.850928</td>\n",
              "    </tr>\n",
              "    <tr>\n",
              "      <th>...</th>\n",
              "      <td>...</td>\n",
              "      <td>...</td>\n",
              "    </tr>\n",
              "    <tr>\n",
              "      <th>12887</th>\n",
              "      <td>12887</td>\n",
              "      <td>0.608202</td>\n",
              "    </tr>\n",
              "    <tr>\n",
              "      <th>12888</th>\n",
              "      <td>12888</td>\n",
              "      <td>0.704534</td>\n",
              "    </tr>\n",
              "    <tr>\n",
              "      <th>12889</th>\n",
              "      <td>12889</td>\n",
              "      <td>0.889706</td>\n",
              "    </tr>\n",
              "    <tr>\n",
              "      <th>12890</th>\n",
              "      <td>12890</td>\n",
              "      <td>0.786419</td>\n",
              "    </tr>\n",
              "    <tr>\n",
              "      <th>12891</th>\n",
              "      <td>12891</td>\n",
              "      <td>0.213812</td>\n",
              "    </tr>\n",
              "  </tbody>\n",
              "</table>\n",
              "<p>12892 rows × 2 columns</p>\n",
              "</div>"
            ],
            "text/plain": [
              "       index     label\n",
              "0          0  0.098986\n",
              "1          1  0.306965\n",
              "2          2  0.127518\n",
              "3          3  0.928079\n",
              "4          4  0.850928\n",
              "...      ...       ...\n",
              "12887  12887  0.608202\n",
              "12888  12888  0.704534\n",
              "12889  12889  0.889706\n",
              "12890  12890  0.786419\n",
              "12891  12891  0.213812\n",
              "\n",
              "[12892 rows x 2 columns]"
            ]
          },
          "metadata": {
            "tags": []
          },
          "execution_count": 55
        }
      ]
    },
    {
      "cell_type": "markdown",
      "metadata": {
        "id": "YHZK84v0RDx5",
        "colab_type": "text"
      },
      "source": [
        "Finally, the predictions dataframe is saved to a CSV file, which can now be submitted to the competition."
      ]
    },
    {
      "cell_type": "code",
      "metadata": {
        "id": "gHgdjXYvRB5k",
        "colab_type": "code",
        "colab": {}
      },
      "source": [
        "filename = \"my_prediction_results.csv\"\n",
        "\n",
        "my_prediction_results2.to_csv(filename , index= False)"
      ],
      "execution_count": 0,
      "outputs": []
    },
    {
      "cell_type": "markdown",
      "metadata": {
        "id": "aHt6c2OaRMcT",
        "colab_type": "text"
      },
      "source": [
        "These predictions resulted in a score of 0.92087 in the competition."
      ]
    },
    {
      "cell_type": "markdown",
      "metadata": {
        "id": "8ea5gQhoRgDK",
        "colab_type": "text"
      },
      "source": [
        "Now the predictions of both models are compared."
      ]
    },
    {
      "cell_type": "code",
      "metadata": {
        "id": "402MZYOyRqto",
        "colab_type": "code",
        "outputId": "cb7fa9ba-3f1c-4a3c-dcfe-2488f10da934",
        "colab": {
          "base_uri": "https://localhost:8080/",
          "height": 483
        }
      },
      "source": [
        "my_prediction_results['label2'] = my_prediction_results2['label']\n",
        "my_prediction_results.pop('index')\n",
        "\n",
        "plt.figure(figsize=(22,8))\n",
        "sns.scatterplot(data = my_prediction_results.iloc[:100,])\n",
        "plt.show()\n",
        "\n"
      ],
      "execution_count": 0,
      "outputs": [
        {
          "output_type": "display_data",
          "data": {
            "image/png": "[encoded data removed]",
            "text/plain": [
              "<Figure size 1584x576 with 1 Axes>"
            ]
          },
          "metadata": {
            "tags": [],
            "needs_background": "light"
          }
        }
      ]
    }
  ]
}