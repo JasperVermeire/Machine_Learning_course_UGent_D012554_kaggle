{
  "nbformat": 4,
  "nbformat_minor": 0,
  "metadata": {
    "kernelspec": {
      "display_name": "Python 3",
      "language": "python",
      "name": "python3"
    },
    "language_info": {
      "codemirror_mode": {
        "name": "ipython",
        "version": 3
      },
      "file_extension": ".py",
      "mimetype": "text/x-python",
      "name": "python",
      "nbconvert_exporter": "python",
      "pygments_lexer": "ipython3",
      "version": "3.7.3"
    },
    "colab": {
      "name": "Eye blinking prediction.ipynb",
      "provenance": []
    }
  },
  "cells": [
    {
      "cell_type": "markdown",
      "metadata": {
        "id": "goRLnuyRXxaw",
        "colab_type": "text"
      },
      "source": [
        "\n",
        "<img src=\"https://raw.githubusercontent.com/sdgroeve/Machine_Learning_course_UGent_D012554_kaggle/master/header.png\" alt=\"drawing\"/>\n"
      ]
    },
    {
      "cell_type": "markdown",
      "metadata": {
        "id": "tsJ4TbSlXxax",
        "colab_type": "text"
      },
      "source": [
        "A multi-channel electroencephalography (EEG) system enables a broad range of applications including neurotherapy, biofeedback, and brain computer interfacing. The dataset you will analyse is created with the [Emotiv EPOC+](https://www.emotiv.com/product/emotiv-epoc-14-channel-mobile-eeg).  \n",
        "\n",
        "It has 14 EEG channels with names based on the International 10-20 locations: AF3, F7, F3, FC5, T7, P7, O1, O2, P8, T8, FC6, F4, F8, AF4:\n",
        "\n",
        "<br/>\n",
        "<br/>\n",
        "<center>\n",
        "<img src=\"https://raw.githubusercontent.com/sdgroeve/Machine_Learning_course_UGent_D012554_kaggle/master/EEG.png\" alt=\"drawing\" width=\"200\"/>\n",
        "<center/>\n",
        "<br/>\n",
        "<br/>\n"
      ]
    },
    {
      "cell_type": "markdown",
      "metadata": {
        "id": "HzXBqhLUfxyh",
        "colab_type": "text"
      },
      "source": [
        "All data is from one continuous EEG measurement with the Emotiv EEG Neuroheadset. \n",
        "\n",
        "The experiment was conducted on one person only. The duration of the measurement was around 117 seconds.\n",
        "\n",
        "From the paper:\n",
        "\n",
        "> *The experiment was carried out in a quiet room. During\n",
        "the experiment, the proband was being videotaped. To prevent\n",
        "artifacts, the proband was not aware of the exact start time\n",
        "of the measurement. Instead, he was told to sit relaxed, look\n",
        "straight to the camera, and change the eye state at free will.\n",
        "Only additional constraint was that, accumulated over the\n",
        "entire session, the duration of both eye states should be about\n",
        "the same and that the individual intervals should vary greatly\n",
        "in length (from eye blinking to longer stretches)...*\n",
        "\n",
        "The eye state was detected via a camera during the EEG measurement and later added manually to the file after analyzing the video frames. \n",
        "\n",
        "A label '1' indicates the eye-closed and '0' the eye-open state.\n",
        "\n",
        "(*Source: Oliver Roesler, Stuttgart, Germany*)"
      ]
    },
    {
      "cell_type": "markdown",
      "metadata": {
        "id": "1rHopvjFXxay",
        "colab_type": "text"
      },
      "source": [
        "First I will load the train and test set as well as modules I will be using to visualize the data. "
      ]
    },
    {
      "cell_type": "code",
      "metadata": {
        "id": "aw7NaXHYXxaz",
        "colab_type": "code",
        "colab": {}
      },
      "source": [
        "%matplotlib inline\n",
        "import pandas as pd\n",
        "import matplotlib.pyplot as plt\n",
        "import seaborn as sns\n",
        "\n",
        "\n",
        "trainset = pd.read_csv(\"https://raw.githubusercontent.com/sdgroeve/Machine_Learning_course_UGent_D012554_kaggle/master/eeg_train.csv\")\n",
        "\n",
        "testset = pd.read_csv(\"https://raw.githubusercontent.com/sdgroeve/Machine_Learning_course_UGent_D012554_kaggle/master/eeg_test.csv\")\n",
        "\n"
      ],
      "execution_count": 0,
      "outputs": []
    },
    {
      "cell_type": "markdown",
      "metadata": {
        "id": "HKeS_E8W9aqK",
        "colab_type": "text"
      },
      "source": [
        "First I want to take a look at the data."
      ]
    },
    {
      "cell_type": "code",
      "metadata": {
        "id": "G2Xcd8tvkEqA",
        "colab_type": "code",
        "outputId": "8b913faf-e97a-43a1-dc1a-02e7dbb246e4",
        "colab": {
          "base_uri": "https://localhost:8080/",
          "height": 493
        }
      },
      "source": [
        "print(trainset)\n",
        "print(testset)"
      ],
      "execution_count": 3,
      "outputs": [
        {
          "output_type": "stream",
          "text": [
            "          AF3       F7       F3      FC5  ...       F4       F8      AF4  label\n",
            "0     4299.49  3997.44  4277.95  4116.92  ...  4278.97  4600.00  4369.23      1\n",
            "1     4302.05  3985.64  4261.03  4129.74  ...  4283.08  4607.18  4358.46      0\n",
            "2     4321.03  4015.90  4265.13  4122.56  ...  4286.15  4608.21  4371.79      0\n",
            "3     4408.21  4104.10  4380.00  4232.31  ...  4388.21  4715.90  4464.10      0\n",
            "4     4347.18  3975.38  4266.67  4102.56  ...  4313.33  4664.10  4411.79      1\n",
            "...       ...      ...      ...      ...  ...      ...      ...      ...    ...\n",
            "1995  4211.79  4015.90  4230.26  4107.69  ...  4240.51  4544.62  4265.13      1\n",
            "1996  4268.72  4035.38  4237.95  4112.82  ...  4250.77  4586.67  4321.54      0\n",
            "1997  4287.69  4007.69  4267.18  4128.21  ...  4260.51  4597.44  4353.33      0\n",
            "1998  4297.95  4031.79  4275.90  4147.69  ...  4279.49  4604.10  4340.51      0\n",
            "1999  4303.08  4010.26  4270.77  4148.21  ...  4281.54  4626.67  4349.23      0\n",
            "\n",
            "[2000 rows x 15 columns]\n",
            "           AF3       F7       F3      FC5  ...       F4       F8      AF4  index\n",
            "0      4296.41  4040.51  4253.33  4124.10  ...  4268.72  4598.46  4342.56      0\n",
            "1      4291.28  3994.36  4247.18  4102.56  ...  4260.51  4593.33  4337.95      1\n",
            "2      4299.49  4019.49  4269.74  4116.41  ...  4280.51  4596.92  4350.26      2\n",
            "3      4280.00  4004.62  4263.59  4120.51  ...  4271.79  4608.72  4344.10      3\n",
            "4      4317.44  3968.72  4260.51  4101.54  ...  4282.05  4592.31  4372.82      4\n",
            "...        ...      ...      ...      ...  ...      ...      ...      ...    ...\n",
            "12887  4278.97  3986.67  4243.08  4116.41  ...  4267.18  4597.44  4343.08  12887\n",
            "12888  4319.49  3998.46  4267.18  4106.67  ...  4286.15  4615.38  4386.67  12888\n",
            "12889  4286.15  4006.67  4259.49  4122.56  ...  4269.74  4610.26  4350.26  12889\n",
            "12890  4376.92  4024.10  4278.97  4120.00  ...  4305.13  4643.08  4442.56  12890\n",
            "12891  4337.44  4038.97  4300.51  4142.56  ...  4308.21  4636.92  4401.03  12891\n",
            "\n",
            "[12892 rows x 15 columns]\n"
          ],
          "name": "stdout"
        }
      ]
    },
    {
      "cell_type": "code",
      "metadata": {
        "id": "OhWUb4SQc2R_",
        "colab_type": "code",
        "colab": {
          "base_uri": "https://localhost:8080/",
          "height": 51
        },
        "outputId": "64dda3aa-398a-4ba5-d8ed-de3df1db2ae6"
      },
      "source": [
        "print(trainset[trainset.label == 1].label.count())\n",
        "print(trainset[trainset.label == 0].label.count())"
      ],
      "execution_count": 7,
      "outputs": [
        {
          "output_type": "stream",
          "text": [
            "901\n",
            "1099\n"
          ],
          "name": "stdout"
        }
      ]
    },
    {
      "cell_type": "markdown",
      "metadata": {
        "id": "Px4HiXaq-PDz",
        "colab_type": "text"
      },
      "source": [
        "here we see that there are 901 timepoints captured where the subjects eyes were closes (label 1) and 1099 timepoints where the subjects eyes were open (label2)\n",
        "\n",
        "let's now remove the label column from the trainset and the index column from the testset. "
      ]
    },
    {
      "cell_type": "code",
      "metadata": {
        "id": "aG_Sl4Dw-OXC",
        "colab_type": "code",
        "colab": {
          "base_uri": "https://localhost:8080/",
          "height": 493
        },
        "outputId": "03476c5f-dad9-4309-d9ee-a9072f8e4024"
      },
      "source": [
        "train_label = trainset.pop('label')\n",
        "testset.pop('index')\n",
        "print(trainset)\n",
        "print(testset)"
      ],
      "execution_count": 8,
      "outputs": [
        {
          "output_type": "stream",
          "text": [
            "          AF3       F7       F3      FC5  ...      FC6       F4       F8      AF4\n",
            "0     4299.49  3997.44  4277.95  4116.92  ...  4211.79  4278.97  4600.00  4369.23\n",
            "1     4302.05  3985.64  4261.03  4129.74  ...  4195.90  4283.08  4607.18  4358.46\n",
            "2     4321.03  4015.90  4265.13  4122.56  ...  4155.38  4286.15  4608.21  4371.79\n",
            "3     4408.21  4104.10  4380.00  4232.31  ...  4319.49  4388.21  4715.90  4464.10\n",
            "4     4347.18  3975.38  4266.67  4102.56  ...  4248.21  4313.33  4664.10  4411.79\n",
            "...       ...      ...      ...      ...  ...      ...      ...      ...      ...\n",
            "1995  4211.79  4015.90  4230.26  4107.69  ...  4168.72  4240.51  4544.62  4265.13\n",
            "1996  4268.72  4035.38  4237.95  4112.82  ...  4189.74  4250.77  4586.67  4321.54\n",
            "1997  4287.69  4007.69  4267.18  4128.21  ...  4192.82  4260.51  4597.44  4353.33\n",
            "1998  4297.95  4031.79  4275.90  4147.69  ...  4210.77  4279.49  4604.10  4340.51\n",
            "1999  4303.08  4010.26  4270.77  4148.21  ...  4217.44  4281.54  4626.67  4349.23\n",
            "\n",
            "[2000 rows x 14 columns]\n",
            "           AF3       F7       F3      FC5  ...      FC6       F4       F8      AF4\n",
            "0      4296.41  4040.51  4253.33  4124.10  ...  4197.44  4268.72  4598.46  4342.56\n",
            "1      4291.28  3994.36  4247.18  4102.56  ...  4190.77  4260.51  4593.33  4337.95\n",
            "2      4299.49  4019.49  4269.74  4116.41  ...  4202.56  4280.51  4596.92  4350.26\n",
            "3      4280.00  4004.62  4263.59  4120.51  ...  4192.82  4271.79  4608.72  4344.10\n",
            "4      4317.44  3968.72  4260.51  4101.54  ...  4199.49  4282.05  4592.31  4372.82\n",
            "...        ...      ...      ...      ...  ...      ...      ...      ...      ...\n",
            "12887  4278.97  3986.67  4243.08  4116.41  ...  4198.46  4267.18  4597.44  4343.08\n",
            "12888  4319.49  3998.46  4267.18  4106.67  ...  4210.77  4286.15  4615.38  4386.67\n",
            "12889  4286.15  4006.67  4259.49  4122.56  ...  4200.00  4269.74  4610.26  4350.26\n",
            "12890  4376.92  4024.10  4278.97  4120.00  ...  4227.18  4305.13  4643.08  4442.56\n",
            "12891  4337.44  4038.97  4300.51  4142.56  ...  4243.08  4308.21  4636.92  4401.03\n",
            "\n",
            "[12892 rows x 14 columns]\n"
          ],
          "name": "stdout"
        }
      ]
    },
    {
      "cell_type": "markdown",
      "metadata": {
        "id": "ReNhw8m9_cLm",
        "colab_type": "text"
      },
      "source": [
        "Now we can see that in both the train and testset the only columns present are the features. \n",
        "\n"
      ]
    },
    {
      "cell_type": "code",
      "metadata": {
        "id": "_cwB_3CPA-kU",
        "colab_type": "code",
        "colab": {}
      },
      "source": [
        "#visualize data before scaling ? \n"
      ],
      "execution_count": 0,
      "outputs": []
    },
    {
      "cell_type": "markdown",
      "metadata": {
        "id": "p7pU9iVDA8ba",
        "colab_type": "text"
      },
      "source": [
        "The data is not centered around 0 , the next step will be to center the data around 0.\n",
        "all features need to have the same scale"
      ]
    },
    {
      "cell_type": "code",
      "metadata": {
        "id": "XKQkzpgGS9UY",
        "colab_type": "code",
        "outputId": "89053b69-8eb9-4430-82fb-49c069d3e0cc",
        "colab": {
          "base_uri": "https://localhost:8080/",
          "height": 493
        }
      },
      "source": [
        "from sklearn.preprocessing import StandardScaler\n",
        "\n",
        "scaler = StandardScaler()\n",
        "\n",
        "scaler.fit(trainset)\n",
        "\n",
        "trainset_scaled = scaler.transform(trainset)\n",
        "\n",
        "testset_scaled = scaler.transform(testset)\n",
        "\n",
        "\n",
        "trainset_scaled = pd.DataFrame(trainset_scaled ,columns= trainset.columns )\n",
        "testset_scaled = pd.DataFrame(testset_scaled ,columns= testset.columns )\n",
        "print(trainset_scaled)\n",
        "print(testset_scaled)\n"
      ],
      "execution_count": 9,
      "outputs": [
        {
          "output_type": "stream",
          "text": [
            "           AF3        F7        F3  ...        F4        F8       AF4\n",
            "0    -0.018351 -0.396476  0.677912  ...  0.026714 -0.156365  0.252992\n",
            "1     0.052070 -0.791842 -0.136210  ...  0.235973  0.060820 -0.037576\n",
            "2     0.574178  0.222036  0.061066  ...  0.392280  0.091976  0.322059\n",
            "3     2.972354  3.177226  5.588146  ...  5.588622  3.349453  2.812530\n",
            "4     1.293521 -1.135609  0.135164  ...  1.776139  1.782573  1.401236\n",
            "...        ...       ...       ...  ...       ...       ...       ...\n",
            "1995 -2.430832  0.222036 -1.616738  ... -1.931461 -1.831536 -2.555566\n",
            "1996 -0.864783  0.874724 -1.246726  ... -1.409078 -0.559580 -1.033657\n",
            "1997 -0.342950 -0.053044  0.159704  ... -0.913170 -0.233802 -0.175981\n",
            "1998 -0.060714  0.754439  0.579275  ...  0.053189 -0.032346 -0.521857\n",
            "1999  0.080403  0.033065  0.332440  ...  0.157564  0.650366 -0.286596\n",
            "\n",
            "[2000 rows x 14 columns]\n",
            "            AF3        F7        F3  ...        F4        F8       AF4\n",
            "0     -0.103077  1.046608 -0.506702  ... -0.495161 -0.202948 -0.466549\n",
            "1     -0.244195 -0.499673 -0.802616  ... -0.913170 -0.358124 -0.590924\n",
            "2     -0.018351  0.342321  0.282880  ...  0.105122 -0.249531 -0.258808\n",
            "3     -0.554489 -0.155906 -0.013033  ... -0.338853  0.107403 -0.425001\n",
            "4      0.475423 -1.358756 -0.161230  ...  0.183531 -0.388978  0.349848\n",
            "...         ...       ...       ...  ...       ...       ...       ...\n",
            "12887 -0.582822 -0.757331 -0.999891  ... -0.573569 -0.233802 -0.452520\n",
            "12888  0.531815 -0.362301  0.159704  ...  0.392280  0.308859  0.723513\n",
            "12889 -0.385313 -0.087220 -0.210308  ... -0.443228  0.153986 -0.258808\n",
            "12890  2.111618  0.496782  0.726991  ...  1.358639  1.146747  2.231393\n",
            "12891  1.025590  0.995009  1.763409  ...  1.515456  0.960415  1.110938\n",
            "\n",
            "[12892 rows x 14 columns]\n"
          ],
          "name": "stdout"
        }
      ]
    },
    {
      "cell_type": "code",
      "metadata": {
        "id": "SH_vozx0dhy2",
        "colab_type": "code",
        "colab": {}
      },
      "source": [
        ""
      ],
      "execution_count": 0,
      "outputs": []
    },
    {
      "cell_type": "code",
      "metadata": {
        "id": "jIWlSBszeGXg",
        "colab_type": "code",
        "colab": {}
      },
      "source": [
        ""
      ],
      "execution_count": 0,
      "outputs": []
    },
    {
      "cell_type": "code",
      "metadata": {
        "id": "-RIkIqxtfkm5",
        "colab_type": "code",
        "colab": {}
      },
      "source": [
        ""
      ],
      "execution_count": 0,
      "outputs": []
    },
    {
      "cell_type": "code",
      "metadata": {
        "id": "9ny3rYGokLiV",
        "colab_type": "code",
        "colab": {}
      },
      "source": [
        ""
      ],
      "execution_count": 0,
      "outputs": []
    }
  ]
}